{
 "cells": [
  {
   "cell_type": "code",
   "execution_count": 71,
   "id": "4c56b3d9",
   "metadata": {},
   "outputs": [
    {
     "name": "stdout",
     "output_type": "stream",
     "text": [
      "(1, 2)\n",
      "(3, 4)\n"
     ]
    }
   ],
   "source": [
    "class Point:\n",
    "    def __init__(self,a,b):\n",
    "        self.a=int(a)\n",
    "        self.b=int(b)\n",
    "    def show(self):\n",
    "        a=int(self.a)\n",
    "        b=int(self.b)\n",
    "        print((a,b))\n",
    "a=Point(1,2)\n",
    "a.show()\n",
    "b=Point(3,4)\n",
    "b.show()\n"
   ]
  },
  {
   "cell_type": "code",
   "execution_count": 34,
   "id": "f7803051",
   "metadata": {},
   "outputs": [
    {
     "name": "stdout",
     "output_type": "stream",
     "text": [
      "Max week: 05/08~05/14\n"
     ]
    }
   ],
   "source": [
    "import csv\n",
    "f=open('seoul.csv')\n",
    "data=csv.reader(f)\n",
    "next(data)\n",
    "result1=0\n",
    "result2=0\n",
    "result3=0\n",
    "result4=0\n",
    "result5=0\n",
    "result=[]\n",
    "max=0\n",
    "max_num=0\n",
    "for row in data:\n",
    "    if (row[0].split('-')[2]<'08'):\n",
    "        a=float(row[4])-float(row[3])\n",
    "        result1+=a\n",
    "    if (row[0].split('-')[2]>'07' and row[0].split('-')[2]<'15'):\n",
    "        a=float(row[4])-float(row[3])\n",
    "        result2+=a\n",
    "    if (row[0].split('-')[2]>'14' and row[0].split('-')[2]<'22'):\n",
    "        a=float(row[4])-float(row[3])\n",
    "        result3+=a\n",
    "    if (row[0].split('-')[2]>'21' and row[0].split('-')[2]<'29'):\n",
    "        a=float(row[4])-float(row[3])\n",
    "        result4+=a\n",
    "    if (row[0].split('-')[2]>'28'):\n",
    "        a=float(row[4])-float(row[3])\n",
    "        result5+=a\n",
    "result.append(result1)\n",
    "result.append(result2)\n",
    "result.append(result3)\n",
    "result.append(result4)\n",
    "result.append(result5)\n",
    "for i in range(0,5):\n",
    "    if max<result[i]:\n",
    "        max=result[i]\n",
    "        max_num=i\n",
    "if max_num==0:\n",
    "     print('Max week: 05/01~05/07')\n",
    "if max_num==1:\n",
    "     print('Max week: 05/08~05/14')\n",
    "if max_num==2:\n",
    "     print('Max week: 05/15~05/21')\n",
    "if max_num==3:\n",
    "     print('Max week: 05/21~05/28')\n",
    "if max_num==4:\n",
    "     print('Max week: 05/28~05/31')"
   ]
  },
  {
   "cell_type": "code",
   "execution_count": 52,
   "id": "e4082037",
   "metadata": {},
   "outputs": [
    {
     "name": "stdout",
     "output_type": "stream",
     "text": [
      "[[1 1 0 1 0 1]\n",
      " [1 1 1 0 1 0]\n",
      " [1 1 0 1 0 0]]\n"
     ]
    }
   ],
   "source": [
    "import numpy as np\n",
    "docs=np.array([[1,1,0,1,0,1],[1,1,1,0,1,0],[1,1,0,1,0,0]])\n",
    "print(docs)"
   ]
  },
  {
   "cell_type": "code",
   "execution_count": null,
   "id": "d7a42404",
   "metadata": {},
   "outputs": [],
   "source": []
  }
 ],
 "metadata": {
  "kernelspec": {
   "display_name": "Python 3",
   "language": "python",
   "name": "python3"
  },
  "language_info": {
   "codemirror_mode": {
    "name": "ipython",
    "version": 3
   },
   "file_extension": ".py",
   "mimetype": "text/x-python",
   "name": "python",
   "nbconvert_exporter": "python",
   "pygments_lexer": "ipython3",
   "version": "3.9.4"
  }
 },
 "nbformat": 4,
 "nbformat_minor": 5
}
