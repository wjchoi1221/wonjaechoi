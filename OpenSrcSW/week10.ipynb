{
 "cells": [
  {
   "cell_type": "code",
   "execution_count": 37,
   "id": "da4469df",
   "metadata": {},
   "outputs": [
    {
     "name": "stdout",
     "output_type": "stream",
     "text": [
      "Numbers?11 456 118\n",
      "MAX 456\n"
     ]
    }
   ],
   "source": [
    "x=str(input(\"Numbers?\"))\n",
    "x_list=x.split(' ')\n",
    "x_list = [int (i) for i in x_list]\n",
    "max = x_list[0]\n",
    "for a in x_list:\n",
    "    if a>max:\n",
    "        max=a\n",
    "print(\"MAX\",max)"
   ]
  },
  {
   "cell_type": "code",
   "execution_count": 95,
   "id": "b9b0bdb3",
   "metadata": {},
   "outputs": [
    {
     "name": "stdout",
     "output_type": "stream",
     "text": [
      "암호화시킬 암호 입력: abc def\n",
      "복호화된 암호 입력: efg bcd\n",
      "efg bcd abc def\n"
     ]
    }
   ],
   "source": [
    "def password(a):\n",
    "    c=''\n",
    "    ac=0\n",
    "    x_list=a.split(' ')\n",
    "    x_list.reverse()\n",
    "    x_list2=(' '.join(x_list))\n",
    "    pas2=\"\"\n",
    "    c=''\n",
    "    ac=0\n",
    "    for i in range(len(x_list2)):\n",
    "        c=x_list2[i]\n",
    "        ac=ord(c)\n",
    "        if ac==32:\n",
    "            ac=32\n",
    "            pas2+=c\n",
    "            continue\n",
    "        ac+=1\n",
    "        c=chr(ac)\n",
    "        pas2+=c\n",
    "    return pas2\n",
    "    \n",
    "def password2(a):\n",
    "    c=''\n",
    "    ac=0\n",
    "    x_list=a.split(' ')\n",
    "    x_list.reverse()\n",
    "    x_list2=(' '.join(x_list))\n",
    "    pas2=\"\"\n",
    "    c=''\n",
    "    ac=0\n",
    "    for i in range(len(x_list2)):\n",
    "        c=x_list2[i]\n",
    "        ac=ord(c)\n",
    "        if ac==32:\n",
    "            ac=32\n",
    "            pas2+=c\n",
    "            continue\n",
    "        ac-=1\n",
    "        c=chr(ac)\n",
    "        pas2+=c\n",
    "    return pas2\n",
    "x=str(input(\"암호화시킬 암호 입력: \"))\n",
    "x2=str(input(\"복호화된 암호 입력: \"))\n",
    "print(password(x),password2(x2))"
   ]
  },
  {
   "cell_type": "code",
   "execution_count": 26,
   "id": "7f305bf4",
   "metadata": {},
   "outputs": [
    {
     "name": "stdout",
     "output_type": "stream",
     "text": [
      "이름 입력: a\n",
      "번호 입력: aa\n",
      "이름 입력: b\n",
      "번호 입력: bb\n",
      "이름 입력: c\n",
      "번호 입력: cc\n",
      "이름 입력: d\n",
      "번호 입력: dd\n",
      "이름 입력: e\n",
      "번호 입력: ee\n",
      "이름 입력: f\n",
      "번호 입력: ff\n",
      "이름 입력: g\n",
      "번호 입력: gg\n",
      "이름 입력: i\n",
      "번호 입력: ii\n",
      "이름 입력: j\n",
      "번호 입력: jj\n",
      "이름 입력: k\n",
      "번호 입력: kk\n",
      "이름 입력?a\n",
      "번호는 aa 입니다.\n",
      "번호 입력?kk\n",
      "이름은 k 입니다.\n"
     ]
    }
   ],
   "source": [
    "dict2={}\n",
    "dict3={}\n",
    "for i in range(10):\n",
    "    dict={}\n",
    "    key=input(\"이름 입력: \")\n",
    "    val=input(\"번호 입력: \")\n",
    "    dict[key]=val\n",
    "    dict2.update(dict)\n",
    "dict3={v:k for k,v in dict2.items()}\n",
    "a=input(\"이름 입력?\")\n",
    "print(\"번호는\",dict2.get(a),\"입니다.\")\n",
    "b=input(\"번호 입력?\")\n",
    "print(\"이름은\",dict3.get(b),\"입니다.\")"
   ]
  },
  {
   "cell_type": "code",
   "execution_count": null,
   "id": "663b61a7",
   "metadata": {},
   "outputs": [],
   "source": []
  },
  {
   "cell_type": "code",
   "execution_count": null,
   "id": "69bfba33",
   "metadata": {},
   "outputs": [],
   "source": []
  }
 ],
 "metadata": {
  "kernelspec": {
   "display_name": "Python 3",
   "language": "python",
   "name": "python3"
  },
  "language_info": {
   "codemirror_mode": {
    "name": "ipython",
    "version": 3
   },
   "file_extension": ".py",
   "mimetype": "text/x-python",
   "name": "python",
   "nbconvert_exporter": "python",
   "pygments_lexer": "ipython3",
   "version": "3.9.4"
  }
 },
 "nbformat": 4,
 "nbformat_minor": 5
}
