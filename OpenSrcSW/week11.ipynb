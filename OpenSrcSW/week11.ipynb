{
 "cells": [
  {
   "cell_type": "code",
   "execution_count": 7,
   "id": "d26c6f22",
   "metadata": {},
   "outputs": [
    {
     "name": "stdout",
     "output_type": "stream",
     "text": [
      "10.000000 / 2.000000 = 5.000\n"
     ]
    }
   ],
   "source": [
    "from untitled import *\n",
    "calc=Calc()\n",
    "calc.div(10,2)"
   ]
  },
  {
   "cell_type": "code",
   "execution_count": 3,
   "id": "93169f51",
   "metadata": {
    "scrolled": true
   },
   "outputs": [
    {
     "name": "stdout",
     "output_type": "stream",
     "text": [
      "userinput에 입력하세요: hi hi hi5\n",
      "['hi\\n', 'hello\\n', 'my name is wonjaechoi\\n', 'check it out']\n"
     ]
    }
   ],
   "source": [
    "userinput=input('userinput에 입력하세요: ').split()\n",
    "with open(userinput[1]+'.txt','r') as f:\n",
    "          list_file =[]\n",
    "          for line in f:\n",
    "              list_file.append(line)\n",
    "with open(userinput[2]+'.txt','w') as file:\n",
    "    file.writelines(list_file) #userinput[1]의 내용을 userinput[2]텍스트 파일에 복사\n",
    "print(list_file)\n",
    "\n"
   ]
  },
  {
   "cell_type": "code",
   "execution_count": 14,
   "id": "ea620839",
   "metadata": {},
   "outputs": [
    {
     "name": "stdout",
     "output_type": "stream",
     "text": [
      "userinput에 입력하세요: hi hi hi\n",
      "라인 수는 6 줄 입니다.\n",
      "단어 수는 10 입니다.\n"
     ]
    }
   ],
   "source": [
    "userinput=input('userinput에 입력하세요: ').split()\n",
    "with open(userinput[1]+'.txt','r') as f:\n",
    "          list_file =[]\n",
    "          for line in f:\n",
    "              list_file.append(line)\n",
    "f1=open(userinput[1]+'.txt','r')\n",
    "s1=f1.read()\n",
    "wordcheck=s1.split()\n",
    "\n",
    "print(\"라인 수는\",len(list_file),\"줄 입니다.\")\n",
    "print(\"단어 수는\",len(wordcheck),\"입니다.\")"
   ]
  },
  {
   "cell_type": "code",
   "execution_count": null,
   "id": "488c8df2",
   "metadata": {},
   "outputs": [],
   "source": []
  }
 ],
 "metadata": {
  "kernelspec": {
   "display_name": "Python 3",
   "language": "python",
   "name": "python3"
  },
  "language_info": {
   "codemirror_mode": {
    "name": "ipython",
    "version": 3
   },
   "file_extension": ".py",
   "mimetype": "text/x-python",
   "name": "python",
   "nbconvert_exporter": "python",
   "pygments_lexer": "ipython3",
   "version": "3.9.4"
  }
 },
 "nbformat": 4,
 "nbformat_minor": 5
}
