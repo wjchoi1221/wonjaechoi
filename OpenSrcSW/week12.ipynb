{
 "cells": [
  {
   "cell_type": "code",
   "execution_count": 121,
   "id": "b7abd9ff",
   "metadata": {},
   "outputs": [
    {
     "name": "stdout",
     "output_type": "stream",
     "text": [
      "기상 관측 아래 서울의 최저 기온이 가장 낮았던 날은 2020-12-30이며, 기온은 -12.9 도 였습니다.\n"
     ]
    }
   ],
   "source": [
    "import csv\n",
    "f=open('seoul.csv')\n",
    "data=csv.reader(f)\n",
    "header=next(data)\n",
    "low_temp=999\n",
    "low_date=''\n",
    "for row in data:\n",
    "    if row[3]=='':\n",
    "        row[3]=999\n",
    "    row[3]=float(row[3])\n",
    "    if low_temp>row[3]:\n",
    "        low_temp=row[3]\n",
    "        low_date=row[0]\n",
    "f.close()\n",
    "print('기상 관측 아래 서울의 최저 기온이 가장 낮았던 날은',low_date+'이며, 기온은',low_temp,'도 였습니다.')"
   ]
  },
  {
   "cell_type": "code",
   "execution_count": 125,
   "id": "8811df61",
   "metadata": {},
   "outputs": [
    {
     "name": "stdout",
     "output_type": "stream",
     "text": [
      "기상 관측 아래 서울의 최고 기온이 가장 높았던 날은 2020-06-22이며, 기온은 35.4 도 였습니다.\n"
     ]
    }
   ],
   "source": [
    "import csv\n",
    "f=open('seoul.csv')\n",
    "data=csv.reader(f)\n",
    "header=next(data)\n",
    "max_temp=-999\n",
    "max_date=''\n",
    "for row in data:\n",
    "    if row[-1]=='':\n",
    "        row[-1]=-999\n",
    "    row[-1]=float(row[-1])\n",
    "    if max_temp<row[-1]:\n",
    "        max_date=row[0]\n",
    "        max_temp=row[-1]\n",
    "f.close()\n",
    "        \n",
    "print('기상 관측 아래 서울의 최고 기온이 가장 높았던 날은',max_date+'이며, 기온은',max_temp,'도 였습니다.')"
   ]
  },
  {
   "cell_type": "code",
   "execution_count": 126,
   "id": "56477290",
   "metadata": {},
   "outputs": [
    {
     "name": "stdout",
     "output_type": "stream",
     "text": [
      "기상 관측 아래 서울의 일교차가 가장 컸던 날은 2020-05-06이며, 기온은 16.5 도 였습니다.\n"
     ]
    }
   ],
   "source": [
    "import csv\n",
    "f=open('seoul.csv')\n",
    "data=csv.reader(f)\n",
    "header=next(data)\n",
    "sub_temp=-999\n",
    "sub_date=''\n",
    "for row in data:\n",
    "    if row[-1]=='':\n",
    "        row[-1]=-999\n",
    "    row[-1]=float(row[-1])\n",
    "    if row[3]=='':\n",
    "        row[3]=999\n",
    "    row[3]=float(row[3])\n",
    "    if sub_temp<row[-1]-row[3]:\n",
    "        sub_date=row[0]\n",
    "        sub_temp=row[-1]-row[3]\n",
    "f.close()\n",
    "        \n",
    "print('기상 관측 아래 서울의 일교차가 가장 컸던 날은',sub_date+'이며, 기온은',sub_temp,'도 였습니다.')"
   ]
  },
  {
   "cell_type": "code",
   "execution_count": 1,
   "id": "d2bc272d",
   "metadata": {},
   "outputs": [
    {
     "ename": "SyntaxError",
     "evalue": "invalid syntax (<ipython-input-1-2bba97d8fe33>, line 25)",
     "output_type": "error",
     "traceback": [
      "\u001b[1;36m  File \u001b[1;32m\"<ipython-input-1-2bba97d8fe33>\"\u001b[1;36m, line \u001b[1;32m25\u001b[0m\n\u001b[1;33m    if row[1]=='1호선'://호선별로 내용을 달리하면 됨\u001b[0m\n\u001b[1;37m                     ^\u001b[0m\n\u001b[1;31mSyntaxError\u001b[0m\u001b[1;31m:\u001b[0m invalid syntax\n"
     ]
    }
   ],
   "source": [
    "import csv\n",
    "f=open('subwayfee.csv','r',encoding='UTF8')\n",
    "data=csv.reader(f)\n",
    "next(data)\n",
    "ch=\",\"\n",
    "max1=-999\n",
    "max2=-999\n",
    "max3=-999\n",
    "max4=0\n",
    "max5=0\n",
    "max6=0\n",
    "max1_s=\"\"\n",
    "max2_s=\"\"\n",
    "max3_s=\"\"\n",
    "low1=100000000000000\n",
    "low2=100000000000000\n",
    "low3=100000000000000\n",
    "low4=0\n",
    "low5=0\n",
    "low6=0\n",
    "low1_s=''\n",
    "low2_s=''\n",
    "low3_s=''\n",
    "for row in data:\n",
    "    if row[1]=='1호선':#호선별로 내용을 달리하면 됨\n",
    "        for x in range(len(ch)):\n",
    "            row[4]=int(row[4].replace(ch[x],\"\"))\n",
    "            row[5]=int(row[5].replace(ch[x],\"\"))\n",
    "            if max1<row[4]+row[5]:\n",
    "                max2=max1\n",
    "                max1=row[4]+row[5]\n",
    "                max1_s=row[3]\n",
    "            if max2<row[4]+row[5]<max1:\n",
    "                max3=max2\n",
    "                max2=row[4]+row[5]\n",
    "                max2_s=row[3]\n",
    "            if max3<row[4]+row[5]<max2:\n",
    "                max3=row[4]+row[5]\n",
    "                max3_s=row[3]\n",
    "            if low1>row[4]+row[5]:\n",
    "                low2=low1\n",
    "                low1=row[4]+row[5]\n",
    "                low1_s=row[3]\n",
    "            if low1<row[4]+row[5]<low2:\n",
    "                low3=low2\n",
    "                low2=row[4]+row[5]\n",
    "                low2_s=row[3]\n",
    "            if low2<row[4]+row[5]<low3:\n",
    "                low3=row[4]+row[5]\n",
    "                low3_s=row[3]\n",
    "           \n",
    "\n",
    "        \n",
    "f.close()\n",
    "\n",
    "print('1호선 이용승객수')\n",
    "print('가장 많이 이용하는 역 1순위:'+max1_s+', 승객수는',str(max1)+'명 입니다.')\n",
    "print('가장 많이 이용하는 역 2순위:'+max2_s+', 승객수는',str(max2)+'명 입니다.')\n",
    "print('가장 많이 이용하는 역 3순위:'+max3_s+', 승객수는',str(max3)+'명 입니다.')\n",
    "print('가장 적게 이용하는 역 1순위:'+low1_s+', 승객수는',str(low1)+'명 입니다.')\n",
    "print('가장 적게 이용하는 역 2순위:'+low2_s+', 승객수는',str(low2)+'명 입니다.')\n",
    "print('가장 적게 이용하는 역 3순위:'+low3_s+', 승객수는',str(low3)+'명 입니다.')"
   ]
  },
  {
   "cell_type": "code",
   "execution_count": null,
   "id": "d10b261c",
   "metadata": {},
   "outputs": [],
   "source": []
  }
 ],
 "metadata": {
  "kernelspec": {
   "display_name": "Python 3",
   "language": "python",
   "name": "python3"
  },
  "language_info": {
   "codemirror_mode": {
    "name": "ipython",
    "version": 3
   },
   "file_extension": ".py",
   "mimetype": "text/x-python",
   "name": "python",
   "nbconvert_exporter": "python",
   "pygments_lexer": "ipython3",
   "version": "3.9.4"
  }
 },
 "nbformat": 4,
 "nbformat_minor": 5
}
