{
 "cells": [
  {
   "cell_type": "code",
   "execution_count": null,
   "id": "6226a6ed",
   "metadata": {},
   "outputs": [],
   "source": [
    "#실습문제1\n",
    "x=int(input(\"x 값을 입력하세요\"))\n",
    "y=3*x*x+5*x+3\n",
    "print(y)"
   ]
  },
  {
   "cell_type": "code",
   "execution_count": null,
   "id": "3d7d40e0",
   "metadata": {},
   "outputs": [],
   "source": [
    "#실습문제2\n",
    "pi=3.14\n",
    "x=int(input(\"반지름 값을 입력하세요.\"))\n",
    "round=2*pi*x\n",
    "area=pi*x*x\n",
    "print(\"둘레:\",round,\" 넓이:\",area)\n"
   ]
  }
 ],
 "metadata": {
  "kernelspec": {
   "display_name": "Python 3",
   "language": "python",
   "name": "python3"
  },
  "language_info": {
   "codemirror_mode": {
    "name": "ipython",
    "version": 3
   },
   "file_extension": ".py",
   "mimetype": "text/x-python",
   "name": "python",
   "nbconvert_exporter": "python",
   "pygments_lexer": "ipython3",
   "version": "3.9.4"
  }
 },
 "nbformat": 4,
 "nbformat_minor": 5
}
